{
 "cells": [
  {
   "cell_type": "code",
   "execution_count": 1,
   "metadata": {},
   "outputs": [],
   "source": [
    "import data\n",
    "import tensorflow as tf\n",
    "from tensorflow.contrib import rnn"
   ]
  },
  {
   "cell_type": "code",
   "execution_count": 2,
   "metadata": {},
   "outputs": [],
   "source": [
    "lr = 0.001                 # learning rate\n",
    "batch_size = 70            \n",
    "n_inputs = 8               # 8 by 8 pixels\n",
    "n_steps = 8                # time steps\n",
    "n_hidden_units = 64       # neurons in hidden layer\n",
    "n_classes = 10             # classes (0-9 digits)\n",
    "\n",
    "train_data, train_labels, test_data, test_labels = data.load_all_data('data')\n",
    "train_labels = tf.keras.utils.to_categorical(train_labels, n_classes)\n",
    "test_labels = tf.keras.utils.to_categorical(test_labels, n_classes)\n",
    "# x y placeholder\n",
    "x = tf.placeholder(\"float\", [None, n_steps, n_inputs])\n",
    "y = tf.placeholder(\"float\", [None, n_classes])\n",
    "\n",
    "out_weights=tf.Variable(tf.random_normal([n_hidden_units,n_classes]))\n",
    "out_bias=tf.Variable(tf.random_normal([n_classes]))"
   ]
  },
  {
   "cell_type": "code",
   "execution_count": 3,
   "metadata": {},
   "outputs": [
    {
     "data": {
      "text/plain": [
       "(4000, 64)"
      ]
     },
     "execution_count": 3,
     "metadata": {},
     "output_type": "execute_result"
    }
   ],
   "source": [
    "test_data.shape"
   ]
  },
  {
   "cell_type": "code",
   "execution_count": 3,
   "metadata": {},
   "outputs": [],
   "source": [
    "#processing the input tensor from [batch_size,n_steps,n_input] to \"time_steps\" number of [batch_size,n_input] tensors\n",
    "input=tf.unstack(x ,n_steps, 1)\n",
    "\n",
    "#defining the network\n",
    "lstm_layer=rnn.BasicLSTMCell(n_hidden_units,forget_bias=1)\n",
    "outputs,_=rnn.static_rnn(lstm_layer,input,dtype=\"float32\")\n",
    "\n",
    "#converting last output of dimension [batch_size,num_units] to [batch_size,n_classes] by out_weight multiplication\n",
    "prediction=tf.matmul(outputs[-1],out_weights)+out_bias\n",
    "\n",
    "#loss_function\n",
    "loss=tf.reduce_mean(tf.nn.softmax_cross_entropy_with_logits_v2(logits=prediction,labels=y))\n",
    "#optimization\n",
    "opt=tf.train.AdamOptimizer(learning_rate=lr).minimize(loss)\n",
    "\n",
    "#model evaluation\n",
    "correct_prediction=tf.equal(tf.argmax(prediction,1),tf.argmax(y,1))\n",
    "accuracy=tf.reduce_mean(tf.cast(correct_prediction,tf.float32))"
   ]
  },
  {
   "cell_type": "code",
   "execution_count": 5,
   "metadata": {},
   "outputs": [
    {
     "name": "stdout",
     "output_type": "stream",
     "text": [
      "For iter 500, Train Accuracy: 1.0, Loss: 0.051124703139066696\n",
      "Test Accuracy: 0.8615\n",
      "For iter 1000, Train Accuracy: 1.0, Loss: 0.00891096144914627\n",
      "Test Accuracy: 0.873\n",
      "For iter 1500, Train Accuracy: 1.0, Loss: 0.001817753305658698\n",
      "Test Accuracy: 0.8765\n",
      "For iter 2000, Train Accuracy: 1.0, Loss: 0.001462270156480372\n",
      "Test Accuracy: 0.8795\n",
      "For iter 2500, Train Accuracy: 1.0, Loss: 0.0008163460297510028\n",
      "Test Accuracy: 0.884\n",
      "For iter 3000, Train Accuracy: 1.0, Loss: 0.00030421471456065774\n",
      "Test Accuracy: 0.886\n",
      "For iter 3500, Train Accuracy: 1.0, Loss: 0.00037405002512969077\n",
      "Test Accuracy: 0.88675\n",
      "For iter 4000, Train Accuracy: 1.0, Loss: 0.00021856537205167115\n",
      "Test Accuracy: 0.8875\n",
      "For iter 4500, Train Accuracy: 1.0, Loss: 9.48695233091712e-05\n",
      "Test Accuracy: 0.88725\n",
      "For iter 5000, Train Accuracy: 1.0, Loss: 0.0001334593544015661\n",
      "Test Accuracy: 0.89025\n"
     ]
    }
   ],
   "source": [
    "#initialize variables\n",
    "init=tf.global_variables_initializer()\n",
    "with tf.Session() as sess:\n",
    "    sess.run(init)\n",
    "    iter=1\n",
    "    batch_num=1\n",
    "    while iter<5001:\n",
    "        indst = batch_size*(batch_num-1)\n",
    "        indm = batch_size*batch_num\n",
    "        batch_x,batch_y = train_data[indst:indm], train_labels[indst:indm]\n",
    "        \n",
    "        batch_x=batch_x.reshape((batch_size,n_steps,n_inputs))\n",
    "\n",
    "        sess.run(opt, feed_dict={x: batch_x, y: batch_y})\n",
    "        \n",
    "        batch_num+=1\n",
    "        if batch_num%7==0:\n",
    "            batch_num = 1\n",
    "\n",
    "        if iter%500==0:\n",
    "            acc=sess.run(accuracy,feed_dict={x:batch_x,y:batch_y})\n",
    "            los=sess.run(loss,feed_dict={x:batch_x,y:batch_y})\n",
    "            print(\"For iter {}, Train Accuracy: {}, Loss: {}\".format(iter, acc, los))\n",
    "            #calculating test accuracy\n",
    "            test_data = test_data.reshape((-1, n_steps, n_inputs))\n",
    "            print(\"Test Accuracy:\", sess.run(accuracy, feed_dict={x: test_data, y: test_labels}))\n",
    "\n",
    "        iter+=1"
   ]
  }
 ],
 "metadata": {
  "kernelspec": {
   "display_name": "Python 3",
   "language": "python",
   "name": "python3"
  },
  "language_info": {
   "codemirror_mode": {
    "name": "ipython",
    "version": 3.0
   },
   "file_extension": ".py",
   "mimetype": "text/x-python",
   "name": "python",
   "nbconvert_exporter": "python",
   "pygments_lexer": "ipython3",
   "version": "3.4.4"
  }
 },
 "nbformat": 4,
 "nbformat_minor": 0
}