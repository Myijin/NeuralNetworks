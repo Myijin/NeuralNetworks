{
 "cells": [
  {
   "cell_type": "code",
   "execution_count": 1,
   "metadata": {},
   "outputs": [],
   "source": [
    "import data\n",
    "import numpy as np\n",
    "import tensorflow as tf\n",
    "from tensorflow.contrib import rnn"
   ]
  },
  {
   "cell_type": "code",
   "execution_count": 2,
   "metadata": {},
   "outputs": [],
   "source": [
    "class BatchSampler(object):\n",
    "    '''\n",
    "    A (very) simple wrapper to randomly sample batches without replacement.\n",
    "    '''\n",
    "    def __init__(self, data, targets, batch_size):\n",
    "        self.num_points = data.shape[0]\n",
    "        self.features = data.shape[1]\n",
    "        self.batch_size = batch_size\n",
    "\n",
    "        self.data = data\n",
    "        self.targets = targets\n",
    "\n",
    "        self.indices = np.arange(self.num_points)\n",
    "\n",
    "    def random_batch_indices(self, m=None):\n",
    "        '''\n",
    "        Get random batch indices without replacement from the dataset.\n",
    "        If m is given the batch will be of size m. Otherwise will default to the class initialized value.\n",
    "        '''\n",
    "        if m is None:\n",
    "            indices = np.random.choice(self.indices, self.batch_size, replace=False)\n",
    "        else:\n",
    "            indices = np.random.choice(self.indices, m, replace=False)\n",
    "        return indices \n",
    "\n",
    "    def get_batch(self, m=None):\n",
    "        '''\n",
    "        Get a random batch without replacement from the dataset.\n",
    "        If m is given the batch will be of size m. Otherwise will default to the class initialized value.\n",
    "        '''\n",
    "        indices = self.random_batch_indices(m)\n",
    "        X_batch = np.take(self.data, indices, 0)\n",
    "        y_batch = self.targets[indices]\n",
    "        return X_batch, y_batch"
   ]
  },
  {
   "cell_type": "code",
   "execution_count": 3,
   "metadata": {},
   "outputs": [],
   "source": [
    "lr = 0.001                 # learning rate\n",
    "batch_size = 70            \n",
    "n_inputs = 8               # 8 by 8 pixels\n",
    "n_steps = 8                # time steps\n",
    "n_hidden_units = 64       # neurons in hidden layer\n",
    "n_classes = 10             # classes (0-9 digits)\n",
    "\n",
    "train_data, train_labels, test_data, test_labels = data.load_all_data('data')\n",
    "train_labels = tf.keras.utils.to_categorical(train_labels, n_classes)\n",
    "test_labels = tf.keras.utils.to_categorical(test_labels, n_classes)\n",
    "# x y placeholder\n",
    "x = tf.placeholder(\"float\", [None, n_steps, n_inputs])\n",
    "y = tf.placeholder(\"float\", [None, n_classes])\n",
    "\n",
    "out_weights=tf.Variable(tf.random_normal([n_hidden_units,n_classes]))\n",
    "out_bias=tf.Variable(tf.random_normal([n_classes]))"
   ]
  },
  {
   "cell_type": "code",
   "execution_count": 4,
   "metadata": {},
   "outputs": [
    {
     "data": {
      "text/plain": [
       "(4000, 64)"
      ]
     },
     "execution_count": 4,
     "metadata": {},
     "output_type": "execute_result"
    }
   ],
   "source": [
    "test_data.shape"
   ]
  },
  {
   "cell_type": "code",
   "execution_count": 5,
   "metadata": {},
   "outputs": [],
   "source": [
    "#processing the input tensor from [batch_size,n_steps,n_input] to \"time_steps\" number of [batch_size,n_input] tensors\n",
    "input=tf.unstack(x ,n_steps, 1)\n",
    "\n",
    "#defining the network, forget_bias=1 reduce the scale of forgetting\n",
    "lstm_layer=rnn.BasicLSTMCell(n_hidden_units,forget_bias=1)\n",
    "outputs,_=rnn.static_rnn(lstm_layer,input,dtype=\"float32\")\n",
    "\n",
    "#converting last output of dimension [batch_size,num_units] to [batch_size,n_classes] by out_weight multiplication\n",
    "prediction=tf.matmul(outputs[-1],out_weights)+out_bias\n",
    "\n",
    "#loss_function\n",
    "loss=tf.reduce_mean(tf.nn.softmax_cross_entropy_with_logits_v2(logits=prediction,labels=y))\n",
    "#optimization\n",
    "opt=tf.train.AdamOptimizer(learning_rate=lr).minimize(loss)\n",
    "\n",
    "#model evaluation\n",
    "correct_prediction=tf.equal(tf.argmax(prediction,1),tf.argmax(y,1))\n",
    "accuracy=tf.reduce_mean(tf.cast(correct_prediction,tf.float32))"
   ]
  },
  {
   "cell_type": "code",
   "execution_count": 7,
   "metadata": {},
   "outputs": [
    {
     "name": "stdout",
     "output_type": "stream",
     "text": [
      "For iter 500, Train Accuracy: 0.9428571462631226, Loss: 0.19981510937213898\n",
      "Test Accuracy: 0.898\n",
      "For iter 1000, Train Accuracy: 1.0, Loss: 0.10989219695329666\n",
      "Test Accuracy: 0.93275\n",
      "For iter 1500, Train Accuracy: 0.9857142567634583, Loss: 0.05878107249736786\n",
      "Test Accuracy: 0.94875\n",
      "For iter 2000, Train Accuracy: 0.9714285731315613, Loss: 0.06761782616376877\n",
      "Test Accuracy: 0.95425\n",
      "For iter 2500, Train Accuracy: 0.9714285731315613, Loss: 0.05267376825213432\n",
      "Test Accuracy: 0.96025\n",
      "For iter 3000, Train Accuracy: 0.9714285731315613, Loss: 0.1472402662038803\n",
      "Test Accuracy: 0.964\n",
      "For iter 3500, Train Accuracy: 0.9857142567634583, Loss: 0.05073528736829758\n",
      "Test Accuracy: 0.966\n",
      "For iter 4000, Train Accuracy: 1.0, Loss: 0.006725245621055365\n",
      "Test Accuracy: 0.96925\n",
      "For iter 4500, Train Accuracy: 1.0, Loss: 0.03400745615363121\n",
      "Test Accuracy: 0.973\n",
      "For iter 5000, Train Accuracy: 1.0, Loss: 0.011263670399785042\n",
      "Test Accuracy: 0.97275\n",
      "For iter 5500, Train Accuracy: 1.0, Loss: 0.0041229939088225365\n",
      "Test Accuracy: 0.97475\n",
      "For iter 6000, Train Accuracy: 1.0, Loss: 0.004065431654453278\n",
      "Test Accuracy: 0.9745\n"
     ]
    }
   ],
   "source": [
    "#initialize variables\n",
    "init=tf.global_variables_initializer()\n",
    "with tf.Session() as sess:\n",
    "    sess.run(init)\n",
    "    iter=1\n",
    "    while iter<6001:\n",
    "        batch_sampler = BatchSampler(train_data, train_labels, batch_size)\n",
    "        batch_x,batch_y = batch_sampler.get_batch()\n",
    "        \n",
    "        batch_x=batch_x.reshape((batch_size,n_steps,n_inputs))\n",
    "\n",
    "        sess.run(opt, feed_dict={x: batch_x, y: batch_y})\n",
    "\n",
    "        if iter%500==0:\n",
    "            acc=sess.run(accuracy,feed_dict={x:batch_x,y:batch_y})\n",
    "            los=sess.run(loss,feed_dict={x:batch_x,y:batch_y})\n",
    "            print(\"For iter {}, Train Accuracy: {}, Loss: {}\".format(iter, acc, los))\n",
    "            #calculating test accuracy\n",
    "            test_data = test_data.reshape((-1, n_steps, n_inputs))\n",
    "            print(\"Test Accuracy:\", sess.run(accuracy, feed_dict={x: test_data, y: test_labels}))\n",
    "\n",
    "        iter+=1"
   ]
  },
  {
   "cell_type": "code",
   "execution_count": 5,
   "metadata": {},
   "outputs": [],
   "source": [
    "#processing the input tensor from [batch_size,n_steps,n_input] to \"time_steps\" number of [batch_size,n_input] tensors\n",
    "input=tf.unstack(x ,n_steps, 1)\n",
    "\n",
    "#defining the network\n",
    "lstm_layer=rnn.BasicLSTMCell(n_hidden_units,forget_bias=0)\n",
    "outputs,_=rnn.static_rnn(lstm_layer,input,dtype=\"float32\")\n",
    "\n",
    "#converting last output of dimension [batch_size,num_units] to [batch_size,n_classes] by out_weight multiplication\n",
    "prediction=tf.matmul(outputs[-1],out_weights)+out_bias\n",
    "\n",
    "#loss_function\n",
    "loss=tf.reduce_mean(tf.nn.softmax_cross_entropy_with_logits_v2(logits=prediction,labels=y))\n",
    "#optimization\n",
    "opt=tf.train.AdamOptimizer(learning_rate=lr).minimize(loss)\n",
    "\n",
    "#model evaluation\n",
    "correct_prediction=tf.equal(tf.argmax(prediction,1),tf.argmax(y,1))\n",
    "accuracy=tf.reduce_mean(tf.cast(correct_prediction,tf.float32))"
   ]
  },
  {
   "cell_type": "code",
   "execution_count": 6,
   "metadata": {},
   "outputs": [
    {
     "name": "stdout",
     "output_type": "stream",
     "text": [
      "For iter 500, Train Accuracy: 0.9285714030265808, Loss: 0.2269534170627594\n",
      "Test Accuracy: 0.892\n",
      "For iter 1000, Train Accuracy: 0.9714285731315613, Loss: 0.2718629539012909\n",
      "Test Accuracy: 0.93225\n",
      "For iter 1500, Train Accuracy: 0.9714285731315613, Loss: 0.07966935634613037\n",
      "Test Accuracy: 0.94375\n",
      "For iter 2000, Train Accuracy: 0.9714285731315613, Loss: 0.07058509439229965\n",
      "Test Accuracy: 0.9515\n",
      "For iter 2500, Train Accuracy: 0.9857142567634583, Loss: 0.04764769598841667\n",
      "Test Accuracy: 0.96075\n",
      "For iter 3000, Train Accuracy: 1.0, Loss: 0.012779136188328266\n",
      "Test Accuracy: 0.96775\n",
      "For iter 3500, Train Accuracy: 1.0, Loss: 0.028594227507710457\n",
      "Test Accuracy: 0.971\n",
      "For iter 4000, Train Accuracy: 1.0, Loss: 0.017648153007030487\n",
      "Test Accuracy: 0.973\n",
      "For iter 4500, Train Accuracy: 1.0, Loss: 0.021979818120598793\n",
      "Test Accuracy: 0.9745\n",
      "For iter 5000, Train Accuracy: 0.9428571462631226, Loss: 0.11685161292552948\n",
      "Test Accuracy: 0.97725\n",
      "For iter 5500, Train Accuracy: 0.9857142567634583, Loss: 0.05554700270295143\n",
      "Test Accuracy: 0.9765\n",
      "For iter 6000, Train Accuracy: 1.0, Loss: 0.0024254904128611088\n",
      "Test Accuracy: 0.97475\n"
     ]
    }
   ],
   "source": [
    "#initialize variables\n",
    "init=tf.global_variables_initializer()\n",
    "with tf.Session() as sess:\n",
    "    sess.run(init)\n",
    "    iter=1\n",
    "    while iter<6001:\n",
    "        batch_sampler = BatchSampler(train_data, train_labels, batch_size)\n",
    "        batch_x,batch_y = batch_sampler.get_batch()\n",
    "        \n",
    "        batch_x=batch_x.reshape((batch_size,n_steps,n_inputs))\n",
    "\n",
    "        sess.run(opt, feed_dict={x: batch_x, y: batch_y})\n",
    "\n",
    "        if iter%500==0:\n",
    "            acc=sess.run(accuracy,feed_dict={x:batch_x,y:batch_y})\n",
    "            los=sess.run(loss,feed_dict={x:batch_x,y:batch_y})\n",
    "            print(\"For iter {}, Train Accuracy: {}, Loss: {}\".format(iter, acc, los))\n",
    "            #calculating test accuracy\n",
    "            test_data = test_data.reshape((-1, n_steps, n_inputs))\n",
    "            print(\"Test Accuracy:\", sess.run(accuracy, feed_dict={x: test_data, y: test_labels}))\n",
    "\n",
    "        iter+=1"
   ]
  },
  {
   "cell_type": "code",
   "execution_count": null,
   "metadata": {},
   "outputs": [],
   "source": [
    ""
   ]
  }
 ],
 "metadata": {
  "kernelspec": {
   "display_name": "Python 3",
   "language": "python",
   "name": "python3"
  },
  "language_info": {
   "codemirror_mode": {
    "name": "ipython",
    "version": 3.0
   },
   "file_extension": ".py",
   "mimetype": "text/x-python",
   "name": "python",
   "nbconvert_exporter": "python",
   "pygments_lexer": "ipython3",
   "version": "3.4.4"
  }
 },
 "nbformat": 4,
 "nbformat_minor": 0
}